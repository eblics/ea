{
 "cells": [
  {
   "cell_type": "code",
   "execution_count": 1,
   "metadata": {},
   "outputs": [
    {
     "name": "stderr",
     "output_type": "stream",
     "text": [
      "/home/eblics/anaconda3/lib/python3.6/site-packages/h5py/__init__.py:34: FutureWarning: Conversion of the second argument of issubdtype from `float` to `np.floating` is deprecated. In future, it will be treated as `np.float64 == np.dtype(float).type`.\n",
      "  from ._conv import register_converters as _register_converters\n"
     ]
    }
   ],
   "source": [
    "import numpy as np\n",
    "import pandas as pd\n",
    "import tensorflow as tf\n",
    "pd.set_option('display.float_format', lambda x: '%.5f' % x)\n"
   ]
  },
  {
   "cell_type": "code",
   "execution_count": 20,
   "metadata": {},
   "outputs": [
    {
     "data": {
      "text/plain": [
       "(b'1.241090',)"
      ]
     },
     "execution_count": 20,
     "metadata": {},
     "output_type": "execute_result"
    }
   ],
   "source": [
    "df=pd.DataFrame(columns=['1','2'])\n",
    "#df.columns=['1','2']\n",
    "\n",
    "import struct\n",
    "#str='2018.03.28,01:21,1.241090,1.240940,1.241120,1.241090'\n",
    "#struct.unpack('10s1x5s1x8f1x8f1x8f1x8f1x',str)\n",
    "#struct.unpack('8f',\"1.241090\")\n",
    "s='1.241090'\n",
    "a=struct.unpack('8s',s.encode())\n",
    "a"
   ]
  },
  {
   "cell_type": "code",
   "execution_count": 23,
   "metadata": {},
   "outputs": [
    {
     "ename": "ModuleNotFoundError",
     "evalue": "No module named 'StringIO'",
     "output_type": "error",
     "traceback": [
      "\u001b[0;31m---------------------------------------------------------------------------\u001b[0m",
      "\u001b[0;31mModuleNotFoundError\u001b[0m                       Traceback (most recent call last)",
      "\u001b[0;32m<ipython-input-23-bad330457991>\u001b[0m in \u001b[0;36m<module>\u001b[0;34m()\u001b[0m\n\u001b[1;32m      1\u001b[0m \u001b[0ms\u001b[0m\u001b[0;34m=\u001b[0m\u001b[0;34m'2018.03.28,01:21,1.241090,1.240940,1.241120,1.241090'\u001b[0m\u001b[0;34m\u001b[0m\u001b[0m\n\u001b[0;32m----> 2\u001b[0;31m \u001b[0;32mimport\u001b[0m \u001b[0mStringIO\u001b[0m\u001b[0;34m\u001b[0m\u001b[0m\n\u001b[0m",
      "\u001b[0;31mModuleNotFoundError\u001b[0m: No module named 'StringIO'"
     ]
    }
   ],
   "source": [
    "s='2018.03.28,01:21,1.241090,1.240940,1.241120,1.241090'\n",
    "import StringIO"
   ]
  },
  {
   "cell_type": "code",
   "execution_count": 49,
   "metadata": {},
   "outputs": [
    {
     "name": "stdout",
     "output_type": "stream",
     "text": [
      "[ True  True False  True False]\n"
     ]
    }
   ],
   "source": [
    "a=np.array([1,2,3,5,3])\n",
    "b=(a>2)*(a<5)\n",
    "c=np.not_equal(b,1)\n",
    "print(c)\n",
    "#c=\n",
    "#print(c)"
   ]
  },
  {
   "cell_type": "code",
   "execution_count": 36,
   "metadata": {},
   "outputs": [],
   "source": [
    "b=float('1.233')"
   ]
  },
  {
   "cell_type": "code",
   "execution_count": 57,
   "metadata": {},
   "outputs": [
    {
     "name": "stdout",
     "output_type": "stream",
     "text": [
      "[[[-1.26686574  2.23101945]\n",
      "  [ 0.97072195  0.87654712]]\n",
      "\n",
      " [[-0.48201427  0.02997364]\n",
      "  [-1.36385137 -0.3123239 ]]\n",
      "\n",
      " [[-0.93646722 -0.39277967]\n",
      "  [-0.24373101  0.34386939]]]\n"
     ]
    },
    {
     "data": {
      "text/plain": [
       "array([[[ 0.96415371],\n",
       "        [ 1.84726906]],\n",
       "\n",
       "       [[-0.45204062],\n",
       "        [-1.67617527]],\n",
       "\n",
       "       [[-1.32924689],\n",
       "        [ 0.10013839]]])"
      ]
     },
     "execution_count": 57,
     "metadata": {},
     "output_type": "execute_result"
    }
   ],
   "source": [
    "a=np.random.randn(3,2,2)\n",
    "print(a)\n",
    "b=np.sum(a,axis=2,keepdims=1)\n",
    "b"
   ]
  },
  {
   "cell_type": "code",
   "execution_count": 146,
   "metadata": {
    "collapsed": true
   },
   "outputs": [],
   "source": [
    "df.columns=['date','time','open','high','low','close','vol']\n",
    "k=0\n",
    "s=0.0;sx=0.0;sy=0.0\n",
    "gap=0.0\n",
    "data=[]\n",
    "index=0\n",
    "for i in df.index:\n",
    "    row=df.iloc[i]\n",
    "    x=row['close']-row['open']\n",
    "    y=row['high']-row['low']\n",
    "    if s==0:s=x\n",
    "    if s*x>=0 and abs(x)>0.00005:\n",
    "        k+=1\n",
    "        sx+=x\n",
    "        sy+=y\n",
    "    else:\n",
    "        data.append([k,sx,sy,0,0,0])\n",
    "        s=x\n",
    "        if index>0:\n",
    "            data[index-1][3]=k\n",
    "            data[index-1][4]=sx\n",
    "            data[index-1][5]=sy\n",
    "        k=1;sx=x;sy=y;index+=1"
   ]
  },
  {
   "cell_type": "code",
   "execution_count": 33,
   "metadata": {
    "collapsed": true
   },
   "outputs": [],
   "source": [
    "ef.to_csv('pn.csv')"
   ]
  },
  {
   "cell_type": "code",
   "execution_count": 147,
   "metadata": {},
   "outputs": [
    {
     "data": {
      "text/html": [
       "<div>\n",
       "<style scoped>\n",
       "    .dataframe tbody tr th:only-of-type {\n",
       "        vertical-align: middle;\n",
       "    }\n",
       "\n",
       "    .dataframe tbody tr th {\n",
       "        vertical-align: top;\n",
       "    }\n",
       "\n",
       "    .dataframe thead th {\n",
       "        text-align: right;\n",
       "    }\n",
       "</style>\n",
       "<table border=\"1\" class=\"dataframe\">\n",
       "  <thead>\n",
       "    <tr style=\"text-align: right;\">\n",
       "      <th></th>\n",
       "      <th>pn</th>\n",
       "      <th>pco</th>\n",
       "      <th>phl</th>\n",
       "      <th>nn</th>\n",
       "      <th>nco</th>\n",
       "      <th>nhl</th>\n",
       "    </tr>\n",
       "  </thead>\n",
       "  <tbody>\n",
       "    <tr>\n",
       "      <th>count</th>\n",
       "      <td>44021.00000</td>\n",
       "      <td>44021.00000</td>\n",
       "      <td>44021.00000</td>\n",
       "      <td>44021.00000</td>\n",
       "      <td>44021.00000</td>\n",
       "      <td>44021.00000</td>\n",
       "    </tr>\n",
       "    <tr>\n",
       "      <th>mean</th>\n",
       "      <td>2.07828</td>\n",
       "      <td>-0.00000</td>\n",
       "      <td>0.00027</td>\n",
       "      <td>2.07826</td>\n",
       "      <td>-0.00000</td>\n",
       "      <td>0.00027</td>\n",
       "    </tr>\n",
       "    <tr>\n",
       "      <th>std</th>\n",
       "      <td>1.47579</td>\n",
       "      <td>0.00025</td>\n",
       "      <td>0.00030</td>\n",
       "      <td>1.47582</td>\n",
       "      <td>0.00025</td>\n",
       "      <td>0.00030</td>\n",
       "    </tr>\n",
       "    <tr>\n",
       "      <th>min</th>\n",
       "      <td>1.00000</td>\n",
       "      <td>-0.00662</td>\n",
       "      <td>0.00001</td>\n",
       "      <td>0.00000</td>\n",
       "      <td>-0.00662</td>\n",
       "      <td>0.00000</td>\n",
       "    </tr>\n",
       "    <tr>\n",
       "      <th>25%</th>\n",
       "      <td>1.00000</td>\n",
       "      <td>-0.00011</td>\n",
       "      <td>0.00011</td>\n",
       "      <td>1.00000</td>\n",
       "      <td>-0.00011</td>\n",
       "      <td>0.00011</td>\n",
       "    </tr>\n",
       "    <tr>\n",
       "      <th>50%</th>\n",
       "      <td>2.00000</td>\n",
       "      <td>-0.00001</td>\n",
       "      <td>0.00019</td>\n",
       "      <td>2.00000</td>\n",
       "      <td>0.00000</td>\n",
       "      <td>0.00019</td>\n",
       "    </tr>\n",
       "    <tr>\n",
       "      <th>75%</th>\n",
       "      <td>3.00000</td>\n",
       "      <td>0.00011</td>\n",
       "      <td>0.00034</td>\n",
       "      <td>3.00000</td>\n",
       "      <td>0.00011</td>\n",
       "      <td>0.00034</td>\n",
       "    </tr>\n",
       "    <tr>\n",
       "      <th>max</th>\n",
       "      <td>17.00000</td>\n",
       "      <td>0.00580</td>\n",
       "      <td>0.01850</td>\n",
       "      <td>17.00000</td>\n",
       "      <td>0.00580</td>\n",
       "      <td>0.01850</td>\n",
       "    </tr>\n",
       "  </tbody>\n",
       "</table>\n",
       "</div>"
      ],
      "text/plain": [
       "               pn         pco         phl          nn         nco         nhl\n",
       "count 44021.00000 44021.00000 44021.00000 44021.00000 44021.00000 44021.00000\n",
       "mean      2.07828    -0.00000     0.00027     2.07826    -0.00000     0.00027\n",
       "std       1.47579     0.00025     0.00030     1.47582     0.00025     0.00030\n",
       "min       1.00000    -0.00662     0.00001     0.00000    -0.00662     0.00000\n",
       "25%       1.00000    -0.00011     0.00011     1.00000    -0.00011     0.00011\n",
       "50%       2.00000    -0.00001     0.00019     2.00000     0.00000     0.00019\n",
       "75%       3.00000     0.00011     0.00034     3.00000     0.00011     0.00034\n",
       "max      17.00000     0.00580     0.01850    17.00000     0.00580     0.01850"
      ]
     },
     "execution_count": 147,
     "metadata": {},
     "output_type": "execute_result"
    }
   ],
   "source": [
    "ef.columns=['pn','pco','phl','nn','nco','nhl']\n",
    "ef.describe()"
   ]
  },
  {
   "cell_type": "code",
   "execution_count": 204,
   "metadata": {},
   "outputs": [
    {
     "data": {
      "text/plain": [
       "0.7446351931330472"
      ]
     },
     "execution_count": 204,
     "metadata": {},
     "output_type": "execute_result"
    }
   ],
   "source": [
    "#gf=ef[(ef['pco']>0.00050) & (ef['pn']<=2)]\n",
    "gf=ef[(ef['pco'])& (ef['phl']>=0.00100)]\n",
    "p=len(gf[(gf['nco']<0)&(gf['nhl']>0.00020)].index)/len(gf.index)\n",
    "p\n",
    "#gf.describe()"
   ]
  },
  {
   "cell_type": "code",
   "execution_count": 205,
   "metadata": {},
   "outputs": [
    {
     "data": {
      "text/plain": [
       "466"
      ]
     },
     "execution_count": 205,
     "metadata": {},
     "output_type": "execute_result"
    }
   ],
   "source": [
    "len(gf)"
   ]
  },
  {
   "cell_type": "code",
   "execution_count": 14,
   "metadata": {},
   "outputs": [
    {
     "data": {
      "text/plain": [
       "1"
      ]
     },
     "execution_count": 14,
     "metadata": {},
     "output_type": "execute_result"
    }
   ],
   "source": [
    "round(0.6)"
   ]
  },
  {
   "cell_type": "code",
   "execution_count": 32,
   "metadata": {},
   "outputs": [
    {
     "data": {
      "text/plain": [
       "array([1, 2, 3])"
      ]
     },
     "execution_count": 32,
     "metadata": {},
     "output_type": "execute_result"
    }
   ],
   "source": [
    "a=np.array([[1],[2],[3]])\n",
    "a=np.reshape(a,(3,))\n",
    "a\n",
    "#np.argmax(a)"
   ]
  },
  {
   "cell_type": "code",
   "execution_count": 26,
   "metadata": {},
   "outputs": [
    {
     "data": {
      "text/plain": [
       "array([3])"
      ]
     },
     "execution_count": 26,
     "metadata": {},
     "output_type": "execute_result"
    }
   ],
   "source": [
    "a[2]"
   ]
  },
  {
   "cell_type": "code",
   "execution_count": 42,
   "metadata": {},
   "outputs": [
    {
     "data": {
      "text/plain": [
       "array([0.0135666 , 0.27569891, 0.88541955])"
      ]
     },
     "execution_count": 42,
     "metadata": {},
     "output_type": "execute_result"
    }
   ],
   "source": [
    "a=[3,2,1]\n",
    "b=np.random.random(3,)\n",
    "b"
   ]
  },
  {
   "cell_type": "code",
   "execution_count": 43,
   "metadata": {
    "collapsed": true
   },
   "outputs": [],
   "source": [
    "b=b<0.5"
   ]
  },
  {
   "cell_type": "code",
   "execution_count": 44,
   "metadata": {},
   "outputs": [
    {
     "data": {
      "text/plain": [
       "array([ True,  True, False])"
      ]
     },
     "execution_count": 44,
     "metadata": {},
     "output_type": "execute_result"
    }
   ],
   "source": [
    "b"
   ]
  },
  {
   "cell_type": "code",
   "execution_count": 45,
   "metadata": {},
   "outputs": [
    {
     "data": {
      "text/plain": [
       "array([3, 2, 0])"
      ]
     },
     "execution_count": 45,
     "metadata": {},
     "output_type": "execute_result"
    }
   ],
   "source": [
    "a*b"
   ]
  },
  {
   "cell_type": "code",
   "execution_count": 81,
   "metadata": {},
   "outputs": [
    {
     "name": "stdout",
     "output_type": "stream",
     "text": [
      "<tf.Variable 'A/a:0' shape=(3,) dtype=float32_ref>\n"
     ]
    },
    {
     "data": {
      "text/plain": [
       "array([-0.5781779 ,  0.62764263,  0.9527812 ], dtype=float32)"
      ]
     },
     "execution_count": 81,
     "metadata": {},
     "output_type": "execute_result"
    }
   ],
   "source": [
    "class A(object):\n",
    "    def __init__(self):\n",
    "        with tf.variable_scope(\"A\", reuse=tf.AUTO_REUSE):\n",
    "            self.v=tf.get_variable(name='a',shape=[3])\n",
    "    def mul(self):\n",
    "        self.v=tf.multiply(self.v,2)\n",
    "a=A()\n",
    "print(a.v)\n",
    "sess=tf.Session()\n",
    "sess.run(tf.global_variables_initializer())\n",
    "sess.run(a.v)\n",
    "\n",
    "#saver=tf.train.Saver()\n",
    "#saver.save(sess,'./A')"
   ]
  },
  {
   "cell_type": "code",
   "execution_count": 87,
   "metadata": {},
   "outputs": [
    {
     "name": "stdout",
     "output_type": "stream",
     "text": [
      "Tensor(\"Mul_6:0\", shape=(3,), dtype=float32)\n"
     ]
    }
   ],
   "source": [
    "a.mul()\n",
    "sess.run(a.v)\n",
    "print(a.v)"
   ]
  },
  {
   "cell_type": "code",
   "execution_count": 83,
   "metadata": {},
   "outputs": [
    {
     "data": {
      "text/plain": [
       "'./A'"
      ]
     },
     "execution_count": 83,
     "metadata": {},
     "output_type": "execute_result"
    }
   ],
   "source": [
    "saver=tf.train.Saver()\n",
    "saver.save(sess,'./A')"
   ]
  },
  {
   "cell_type": "code",
   "execution_count": 85,
   "metadata": {},
   "outputs": [
    {
     "data": {
      "text/plain": [
       "array([-0.5781779 ,  0.62764263,  0.9527812 ], dtype=float32)"
      ]
     },
     "execution_count": 85,
     "metadata": {},
     "output_type": "execute_result"
    }
   ],
   "source": [
    "a=A()\n",
    "sess.run(a.v)"
   ]
  },
  {
   "cell_type": "code",
   "execution_count": 86,
   "metadata": {},
   "outputs": [
    {
     "name": "stdout",
     "output_type": "stream",
     "text": [
      "INFO:tensorflow:Restoring parameters from ./A\n"
     ]
    },
    {
     "data": {
      "text/plain": [
       "array([-0.5781779 ,  0.62764263,  0.9527812 ], dtype=float32)"
      ]
     },
     "execution_count": 86,
     "metadata": {},
     "output_type": "execute_result"
    }
   ],
   "source": [
    "#sess.run(tf.global_variables_initializer())\n",
    "saver.restore(sess,'./A')\n",
    "sess.run(a.v)"
   ]
  },
  {
   "cell_type": "code",
   "execution_count": 88,
   "metadata": {
    "collapsed": true
   },
   "outputs": [],
   "source": [
    "a=np.array([1,2,3])\n",
    "a=a[:,np.newaxis]"
   ]
  },
  {
   "cell_type": "code",
   "execution_count": 89,
   "metadata": {},
   "outputs": [
    {
     "data": {
      "text/plain": [
       "array([[1],\n",
       "       [2],\n",
       "       [3]])"
      ]
     },
     "execution_count": 89,
     "metadata": {},
     "output_type": "execute_result"
    }
   ],
   "source": [
    "a"
   ]
  },
  {
   "cell_type": "code",
   "execution_count": null,
   "metadata": {
    "collapsed": true
   },
   "outputs": [],
   "source": []
  }
 ],
 "metadata": {
  "kernelspec": {
   "display_name": "Python 3",
   "language": "python",
   "name": "python3"
  },
  "language_info": {
   "codemirror_mode": {
    "name": "ipython",
    "version": 3
   },
   "file_extension": ".py",
   "mimetype": "text/x-python",
   "name": "python",
   "nbconvert_exporter": "python",
   "pygments_lexer": "ipython3",
   "version": "3.6.3"
  }
 },
 "nbformat": 4,
 "nbformat_minor": 2
}
