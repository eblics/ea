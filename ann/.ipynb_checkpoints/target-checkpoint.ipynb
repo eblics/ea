{
 "cells": [
  {
   "cell_type": "code",
   "execution_count": null,
   "metadata": {},
   "outputs": [],
   "source": [
    "import pandas as pd\n",
    "import numpy as np\n",
    "import sys\n",
    "import time\n",
    "\n",
    "pd.set_option('display.float_format', lambda x: '%.5f' % x)\n",
    "PERIOD=21\n",
    "GAP=200\n",
    "POINT=0.00001\n",
    "GAP=GAP*POINT\n",
    "PERIOD=21\n",
    "GAP=200\n",
    "POINT=0.00001\n",
    "GAP=GAP*POINT\n",
    "\n",
    "df=pd.read_csv('test.csv',header=None,index_col=None)\n",
    "df.columns=['date','time','open','high','low','close','vol']\n",
    "df['time']=df['date']+' '+df['time']\n",
    "df['time']=df['time'].apply(lambda x:time.strptime(x,'%Y.%m.%d %H:%M'))\n",
    "df['timestamp']=df['time'].apply(lambda x:time.mktime(x))\n",
    "shape=df.shape\n",
    "tgarr=[]\n",
    "for i in range(PERIOD,shape[0]-PERIOD):\n",
    "    prerow=df.iloc[i]\n",
    "    price=prerow['close']\n",
    "    for j in range(i+1,shape[0]):\n",
    "        row=df.iloc[j]\n",
    "        pretime=time.strftime(\"%Y-%m-%d %H:%M\",prerow['time'])\n",
    "        gettime=time.strftime(\"%Y-%m-%d %H:%M\",row['time'])\n",
    "        if row['high']-price-GAP>=0:\n",
    "            tgarr.append([j,1,pretime,gettime])\n",
    "            break\n",
    "        elif row['low']-price+GAP<=0:\n",
    "            tgarr.append([j,-1,pretime,gettime])\n",
    "            break\n",
    "    if len(tgarr)<i-PERIOD+1:\n",
    "        tgarr.append([j,0,pretime,gettime])\n",
    "tgdf=pd.DataFrame(tgarr)\n",
    "tgdf.to_csv(fname+'.tg')\n",
    "#tgdf.to_csv(fname+'.tg')"
   ]
  },
  {
   "cell_type": "code",
   "execution_count": null,
   "metadata": {
    "collapsed": true
   },
   "outputs": [],
   "source": []
  },
  {
   "cell_type": "code",
   "execution_count": null,
   "metadata": {
    "collapsed": true
   },
   "outputs": [],
   "source": []
  }
 ],
 "metadata": {
  "kernelspec": {
   "display_name": "Python 3",
   "language": "python",
   "name": "python3"
  },
  "language_info": {
   "codemirror_mode": {
    "name": "ipython",
    "version": 3
   },
   "file_extension": ".py",
   "mimetype": "text/x-python",
   "name": "python",
   "nbconvert_exporter": "python",
   "pygments_lexer": "ipython3",
   "version": "3.6.3"
  }
 },
 "nbformat": 4,
 "nbformat_minor": 2
}
