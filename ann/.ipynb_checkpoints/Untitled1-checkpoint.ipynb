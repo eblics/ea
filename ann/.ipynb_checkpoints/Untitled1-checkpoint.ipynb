{
 "cells": [
  {
   "cell_type": "code",
   "execution_count": 1,
   "metadata": {},
   "outputs": [
    {
     "name": "stderr",
     "output_type": "stream",
     "text": [
      "/home/eblics/anaconda3/lib/python3.6/site-packages/h5py/__init__.py:34: FutureWarning: Conversion of the second argument of issubdtype from `float` to `np.floating` is deprecated. In future, it will be treated as `np.float64 == np.dtype(float).type`.\n",
      "  from ._conv import register_converters as _register_converters\n"
     ]
    }
   ],
   "source": [
    "import numpy as np\n",
    "import pandas as pd\n",
    "import tensorflow as tf\n",
    "pd.set_option('display.float_format', lambda x: '%.5f' % x)\n"
   ]
  },
  {
   "cell_type": "code",
   "execution_count": 4,
   "metadata": {
    "collapsed": true
   },
   "outputs": [],
   "source": [
    "df=pd.read_csv('train.csv',header=None)"
   ]
  },
  {
   "cell_type": "code",
   "execution_count": 146,
   "metadata": {},
   "outputs": [],
   "source": [
    "df.columns=['date','time','open','high','low','close','vol']\n",
    "k=0\n",
    "s=0.0;sx=0.0;sy=0.0\n",
    "gap=0.0\n",
    "data=[]\n",
    "index=0\n",
    "for i in df.index:\n",
    "    row=df.iloc[i]\n",
    "    x=row['close']-row['open']\n",
    "    y=row['high']-row['low']\n",
    "    if s==0:s=x\n",
    "    if s*x>=0 and abs(x)>0.00005:\n",
    "        k+=1\n",
    "        sx+=x\n",
    "        sy+=y\n",
    "    else:\n",
    "        data.append([k,sx,sy,0,0,0])\n",
    "        s=x\n",
    "        if index>0:\n",
    "            data[index-1][3]=k\n",
    "            data[index-1][4]=sx\n",
    "            data[index-1][5]=sy\n",
    "        k=1;sx=x;sy=y;index+=1"
   ]
  },
  {
   "cell_type": "code",
   "execution_count": 33,
   "metadata": {},
   "outputs": [],
   "source": [
    "ef.to_csv('pn.csv')"
   ]
  },
  {
   "cell_type": "code",
   "execution_count": 147,
   "metadata": {},
   "outputs": [
    {
     "data": {
      "text/html": [
       "<div>\n",
       "<style scoped>\n",
       "    .dataframe tbody tr th:only-of-type {\n",
       "        vertical-align: middle;\n",
       "    }\n",
       "\n",
       "    .dataframe tbody tr th {\n",
       "        vertical-align: top;\n",
       "    }\n",
       "\n",
       "    .dataframe thead th {\n",
       "        text-align: right;\n",
       "    }\n",
       "</style>\n",
       "<table border=\"1\" class=\"dataframe\">\n",
       "  <thead>\n",
       "    <tr style=\"text-align: right;\">\n",
       "      <th></th>\n",
       "      <th>pn</th>\n",
       "      <th>pco</th>\n",
       "      <th>phl</th>\n",
       "      <th>nn</th>\n",
       "      <th>nco</th>\n",
       "      <th>nhl</th>\n",
       "    </tr>\n",
       "  </thead>\n",
       "  <tbody>\n",
       "    <tr>\n",
       "      <th>count</th>\n",
       "      <td>44021.00000</td>\n",
       "      <td>44021.00000</td>\n",
       "      <td>44021.00000</td>\n",
       "      <td>44021.00000</td>\n",
       "      <td>44021.00000</td>\n",
       "      <td>44021.00000</td>\n",
       "    </tr>\n",
       "    <tr>\n",
       "      <th>mean</th>\n",
       "      <td>2.07828</td>\n",
       "      <td>-0.00000</td>\n",
       "      <td>0.00027</td>\n",
       "      <td>2.07826</td>\n",
       "      <td>-0.00000</td>\n",
       "      <td>0.00027</td>\n",
       "    </tr>\n",
       "    <tr>\n",
       "      <th>std</th>\n",
       "      <td>1.47579</td>\n",
       "      <td>0.00025</td>\n",
       "      <td>0.00030</td>\n",
       "      <td>1.47582</td>\n",
       "      <td>0.00025</td>\n",
       "      <td>0.00030</td>\n",
       "    </tr>\n",
       "    <tr>\n",
       "      <th>min</th>\n",
       "      <td>1.00000</td>\n",
       "      <td>-0.00662</td>\n",
       "      <td>0.00001</td>\n",
       "      <td>0.00000</td>\n",
       "      <td>-0.00662</td>\n",
       "      <td>0.00000</td>\n",
       "    </tr>\n",
       "    <tr>\n",
       "      <th>25%</th>\n",
       "      <td>1.00000</td>\n",
       "      <td>-0.00011</td>\n",
       "      <td>0.00011</td>\n",
       "      <td>1.00000</td>\n",
       "      <td>-0.00011</td>\n",
       "      <td>0.00011</td>\n",
       "    </tr>\n",
       "    <tr>\n",
       "      <th>50%</th>\n",
       "      <td>2.00000</td>\n",
       "      <td>-0.00001</td>\n",
       "      <td>0.00019</td>\n",
       "      <td>2.00000</td>\n",
       "      <td>0.00000</td>\n",
       "      <td>0.00019</td>\n",
       "    </tr>\n",
       "    <tr>\n",
       "      <th>75%</th>\n",
       "      <td>3.00000</td>\n",
       "      <td>0.00011</td>\n",
       "      <td>0.00034</td>\n",
       "      <td>3.00000</td>\n",
       "      <td>0.00011</td>\n",
       "      <td>0.00034</td>\n",
       "    </tr>\n",
       "    <tr>\n",
       "      <th>max</th>\n",
       "      <td>17.00000</td>\n",
       "      <td>0.00580</td>\n",
       "      <td>0.01850</td>\n",
       "      <td>17.00000</td>\n",
       "      <td>0.00580</td>\n",
       "      <td>0.01850</td>\n",
       "    </tr>\n",
       "  </tbody>\n",
       "</table>\n",
       "</div>"
      ],
      "text/plain": [
       "               pn         pco         phl          nn         nco         nhl\n",
       "count 44021.00000 44021.00000 44021.00000 44021.00000 44021.00000 44021.00000\n",
       "mean      2.07828    -0.00000     0.00027     2.07826    -0.00000     0.00027\n",
       "std       1.47579     0.00025     0.00030     1.47582     0.00025     0.00030\n",
       "min       1.00000    -0.00662     0.00001     0.00000    -0.00662     0.00000\n",
       "25%       1.00000    -0.00011     0.00011     1.00000    -0.00011     0.00011\n",
       "50%       2.00000    -0.00001     0.00019     2.00000     0.00000     0.00019\n",
       "75%       3.00000     0.00011     0.00034     3.00000     0.00011     0.00034\n",
       "max      17.00000     0.00580     0.01850    17.00000     0.00580     0.01850"
      ]
     },
     "execution_count": 147,
     "metadata": {},
     "output_type": "execute_result"
    }
   ],
   "source": [
    "ef.columns=['pn','pco','phl','nn','nco','nhl']\n",
    "ef.describe()"
   ]
  },
  {
   "cell_type": "code",
   "execution_count": 198,
   "metadata": {},
   "outputs": [
    {
     "data": {
      "text/plain": [
       "0.8260869565217391"
      ]
     },
     "execution_count": 198,
     "metadata": {},
     "output_type": "execute_result"
    }
   ],
   "source": [
    "#gf=ef[(ef['pco']>0.00050) & (ef['pn']<=2)]\n",
    "gf=ef[(ef['pco']>0)& (ef['pn']<=1)]\n",
    "p=len(gf[(gf['nco']<0)&(gf['nhl']>0.00020)].index)/len(gf.index)\n",
    "p\n",
    "#gf.describe()"
   ]
  },
  {
   "cell_type": "code",
   "execution_count": 184,
   "metadata": {},
   "outputs": [
    {
     "data": {
      "text/plain": [
       "290"
      ]
     },
     "execution_count": 184,
     "metadata": {},
     "output_type": "execute_result"
    }
   ],
   "source": [
    "len(gf)"
   ]
  },
  {
   "cell_type": "code",
   "execution_count": null,
   "metadata": {
    "collapsed": true
   },
   "outputs": [],
   "source": []
  }
 ],
 "metadata": {
  "kernelspec": {
   "display_name": "Python 3",
   "language": "python",
   "name": "python3"
  },
  "language_info": {
   "codemirror_mode": {
    "name": "ipython",
    "version": 3
   },
   "file_extension": ".py",
   "mimetype": "text/x-python",
   "name": "python",
   "nbconvert_exporter": "python",
   "pygments_lexer": "ipython3",
   "version": "3.6.3"
  }
 },
 "nbformat": 4,
 "nbformat_minor": 2
}
